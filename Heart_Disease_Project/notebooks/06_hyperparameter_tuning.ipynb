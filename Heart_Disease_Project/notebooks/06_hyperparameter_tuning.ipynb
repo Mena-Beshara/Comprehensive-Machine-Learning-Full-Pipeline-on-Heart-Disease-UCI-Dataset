{
 "cells": [
  {
   "cell_type": "markdown",
   "id": "80bf3191",
   "metadata": {},
   "source": [
    "# HyperParameter Tuning"
   ]
  },
  {
   "cell_type": "code",
   "execution_count": 2,
   "id": "65397abe",
   "metadata": {},
   "outputs": [],
   "source": [
    "import pandas as pd\n",
    "from sklearn.model_selection import GridSearchCV, train_test_split\n",
    "from sklearn.ensemble import RandomForestClassifier\n",
    "from sklearn.svm import SVC\n",
    "from sklearn.linear_model import LogisticRegression\n",
    "from sklearn.tree import DecisionTreeClassifier\n",
    "from sklearn.metrics import accuracy_score, classification_report\n",
    "from sklearn.preprocessing import StandardScaler"
   ]
  },
  {
   "cell_type": "code",
   "execution_count": 3,
   "id": "b126715d",
   "metadata": {},
   "outputs": [],
   "source": [
    "# loading the cleaned Data from 01_data_preprocessing\n",
    "X = pd.read_csv('../data/cleaned_X.csv')\n",
    "y = pd.read_csv('../data/clean_y.csv')"
   ]
  },
  {
   "cell_type": "code",
   "execution_count": 4,
   "id": "c46853dd",
   "metadata": {},
   "outputs": [],
   "source": [
    "# Split the dataset to train and test datasets\n",
    "# Test size = 20%\n",
    "X_train, X_test, y_train, y_test = train_test_split(X, y, test_size=0.2, random_state=42)\n",
    "\n",
    "# scalling X \n",
    "scaler = StandardScaler()\n",
    "X_train_scaled = scaler.fit_transform(X_train)\n",
    "X_test_scaled = scaler.transform(X_test)"
   ]
  },
  {
   "cell_type": "code",
   "execution_count": 6,
   "id": "e741027d",
   "metadata": {},
   "outputs": [
    {
     "name": "stdout",
     "output_type": "stream",
     "text": [
      "Logistic Regression Best Params: {'C': 1, 'solver': 'liblinear'}\n",
      "Accuracy: 0.8833333333333333\n",
      "              precision    recall  f1-score   support\n",
      "\n",
      "           0       0.91      0.89      0.90        36\n",
      "           1       0.84      0.88      0.86        24\n",
      "\n",
      "    accuracy                           0.88        60\n",
      "   macro avg       0.88      0.88      0.88        60\n",
      "weighted avg       0.88      0.88      0.88        60\n",
      "\n"
     ]
    }
   ],
   "source": [
    "\n",
    "\n",
    "# Create and train Logistic Regression Model\n",
    "lr_model = LogisticRegression()\n",
    "lr_model.fit(X_train_scaled, y_train.values.ravel())\n",
    "\n",
    "param_grid_lr = {\n",
    "    'C': [0.01, 0.1, 1, 10],\n",
    "    'solver': ['liblinear','lbfgs']\n",
    "}\n",
    "grid_lr = GridSearchCV(lr_model, param_grid_lr, cv=5, scoring='accuracy')\n",
    "grid_lr.fit(X_train_scaled, y_train.values.ravel())\n",
    "best_lr = grid_lr.best_estimator_\n",
    "\n",
    "# Make prediction after Hyperparameter\n",
    "y_pred_lr = best_lr.predict(X_test_scaled)\n",
    "\n",
    "# Print Logistic Regression Model Results after Hyperparameter\n",
    "print(\"Logistic Regression Best Params:\", grid_lr.best_params_)\n",
    "print(\"Accuracy:\", accuracy_score(y_test, y_pred_lr))\n",
    "print(classification_report(y_test, y_pred_lr))\n"
   ]
  },
  {
   "cell_type": "code",
   "execution_count": null,
   "id": "7d650b9d",
   "metadata": {},
   "outputs": [],
   "source": []
  }
 ],
 "metadata": {
  "kernelspec": {
   "display_name": "data_env",
   "language": "python",
   "name": "python3"
  },
  "language_info": {
   "codemirror_mode": {
    "name": "ipython",
    "version": 3
   },
   "file_extension": ".py",
   "mimetype": "text/x-python",
   "name": "python",
   "nbconvert_exporter": "python",
   "pygments_lexer": "ipython3",
   "version": "3.11.13"
  }
 },
 "nbformat": 4,
 "nbformat_minor": 5
}
